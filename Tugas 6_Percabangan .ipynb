{
 "cells": [
  {
   "cell_type": "markdown",
   "id": "d6d7e20e",
   "metadata": {},
   "source": [
    "<h1>Penerimaan Calon Programmer</h1>"
   ]
  },
  {
   "cell_type": "code",
   "execution_count": 10,
   "id": "7db2485a",
   "metadata": {},
   "outputs": [
    {
     "name": "stdout",
     "output_type": "stream",
     "text": [
      "Insert Nilai : 100\n",
      "100 = A\n",
      "LOLOS \n",
      "Selamat Kamu Berhasil Menjadi Calon Programmer!\n"
     ]
    }
   ],
   "source": [
    "nilai = int (input(\"Insert Nilai : \"))\n",
    "\n",
    "grade =''\n",
    "\n",
    "if nilai >= 80 and nilai <=100:\n",
    "    if nilai ==80: \n",
    "        print(f\"{nilai} = A\")\n",
    "    if nilai >= 100:\n",
    "        print(f\"{nilai} = A\")\n",
    "        grade = 'LOLOS'\n",
    "elif  nilai >= 60 and nilai <=80:\n",
    "    if nilai ==60:\n",
    "        print(f\"{nilai} = B\")\n",
    "    if nilai <= 80:    \n",
    "         print(f\"{nilai} = B\")     \n",
    "         grade = 'DIPERTIMBANGKAN'\n",
    "elif nilai < 60:\n",
    "        print(f\"{nilai} = GAGAL \") \n",
    "              \n",
    "if grade !='':\n",
    "    print(f\"{grade} \\nSelamat Kamu Berhasil Menjadi Calon Programmer!\")             \n",
    "else:\n",
    "\n",
    "    print(f\"{grade} \\nMaaf kamu Belum Berhasil Menjadi Calon Programmer\")\n",
    "             \n",
    "              "
   ]
  },
  {
   "cell_type": "markdown",
   "id": "053165a9",
   "metadata": {},
   "source": [
    "<h1>Klub Sepak Bola PERSEGI FC</h1>"
   ]
  },
  {
   "cell_type": "code",
   "execution_count": 11,
   "id": "9314bd74",
   "metadata": {},
   "outputs": [
    {
     "name": "stdout",
     "output_type": "stream",
     "text": [
      "Masukkan Nomor Punggung Pemain: 15\n",
      "Nomor punggung tersebut dapat digunakan untuk posisi: Defender, Keeper\n"
     ]
    }
   ],
   "source": [
    "nomor_punggung = int(input(\"Masukkan Nomor Punggung Pemain: \"))\n",
    "\n",
    "posisi = \"\"\n",
    "\n",
    "if nomor_punggung % 2 == 0:\n",
    "    posisi += \"Target Attacker, \"\n",
    "\n",
    "if 50 <= nomor_punggung <= 100 and nomor_punggung % 2 == 0:\n",
    "    posisi += \"Captain Team, \"\n",
    "\n",
    "if nomor_punggung % 2 != 0:\n",
    "    posisi += \"Defender, \"\n",
    "\n",
    "if nomor_punggung % 2 != 0 and nomor_punggung > 90:\n",
    "    posisi += \"Playmaker, \"\n",
    "\n",
    "if nomor_punggung % 2 != 0 and (nomor_punggung % 3 == 0 or nomor_punggung % 5 == 0):\n",
    "    posisi += \"Keeper, \"\n",
    "\n",
    "if posisi:\n",
    "    print(\"Nomor punggung tersebut dapat digunakan untuk posisi:\", posisi[:-2])\n",
    "else:\n",
    "    print(\"Nomor punggung tersebut tidak dapat digunakan untuk posisi apapun.\")"
   ]
  }
 ],
 "metadata": {
  "kernelspec": {
   "display_name": "Python 3 (ipykernel)",
   "language": "python",
   "name": "python3"
  },
  "language_info": {
   "codemirror_mode": {
    "name": "ipython",
    "version": 3
   },
   "file_extension": ".py",
   "mimetype": "text/x-python",
   "name": "python",
   "nbconvert_exporter": "python",
   "pygments_lexer": "ipython3",
   "version": "3.11.7"
  }
 },
 "nbformat": 4,
 "nbformat_minor": 5
}
